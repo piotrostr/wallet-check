{
 "cells": [
  {
   "cell_type": "code",
   "execution_count": 29,
   "metadata": {},
   "outputs": [],
   "source": [
    "import pandas as pd\n",
    "import web3\n",
    "import time"
   ]
  },
  {
   "cell_type": "code",
   "execution_count": 30,
   "metadata": {},
   "outputs": [],
   "source": [
    "rpc_url = \"https://mainnet.infura.io/v3/c4120217bf7f4dd18189de1e986ff8c1\"\n",
    "provider = web3.providers.rpc.HTTPProvider(rpc_url)\n",
    "w3 = web3.Web3(provider)"
   ]
  },
  {
   "cell_type": "code",
   "execution_count": 31,
   "metadata": {},
   "outputs": [],
   "source": [
    "df = pd.read_csv(\"data.csv\")\n",
    "all_wallet_addresses = set()\n",
    "cols = df.columns\n",
    "\n",
    "holders = {}\n",
    "\n",
    "for col in cols:\n",
    "    holders[col] = set(df[col].dropna().tolist())\n",
    "\n",
    "for col in cols:\n",
    "    for wallet_address in df[col].dropna():\n",
    "        if all(wallet_address in holders[key] for key in holders.keys()):\n",
    "            wallet_address = w3.to_checksum_address(wallet_address)\n",
    "            all_wallet_addresses.add(wallet_address)"
   ]
  },
  {
   "cell_type": "code",
   "execution_count": 32,
   "metadata": {},
   "outputs": [
    {
     "data": {
      "text/plain": [
       "6"
      ]
     },
     "execution_count": 32,
     "metadata": {},
     "output_type": "execute_result"
    }
   ],
   "source": [
    "len(all_wallet_addresses)"
   ]
  },
  {
   "cell_type": "code",
   "execution_count": 33,
   "metadata": {},
   "outputs": [
    {
     "data": {
      "text/plain": [
       "{'0x607538488D455F05F046378c20F078631b184908',\n",
       " '0x67011c98e6452332ad3587535aB8c99F9eA78217',\n",
       " '0x887a2CA663c35fD607a1Ce6db77e8a5365FE00c4',\n",
       " '0x8af712d54B9121B153d4aD3679652FDacD377B4d',\n",
       " '0xb8Ff2B58da9cC02747Bf7559fC2a3078F71255B6',\n",
       " '0xc7239723911f718277a94D8edd48bb17364809aA'}"
      ]
     },
     "execution_count": 33,
     "metadata": {},
     "output_type": "execute_result"
    }
   ],
   "source": [
    "all_wallet_addresses"
   ]
  },
  {
   "cell_type": "code",
   "execution_count": 34,
   "metadata": {},
   "outputs": [
    {
     "name": "stdout",
     "output_type": "stream",
     "text": [
      ".................."
     ]
    }
   ],
   "source": [
    "# abi that exposes IERC20.balanceOf method\n",
    "abi = [\n",
    "    {\n",
    "        \"inputs\": [{\"internalType\": \"address\", \"name\": \"account\", \"type\": \"address\"}],\n",
    "        \"name\": \"balanceOf\",\n",
    "        \"outputs\": [{\"internalType\": \"uint256\", \"name\": \"\", \"type\": \"uint256\"}],\n",
    "        \"stateMutability\": \"view\",\n",
    "        \"type\": \"function\",\n",
    "    }\n",
    "]\n",
    "\n",
    "token_addresses = [\n",
    "    (\"OgAndy\", \"0x748509433ef209c4d11ada51347d5724a5da0ca5\"),\n",
    "    (\"SLERF\", \"0x7f1fe3623c60195233782ee390f98be7e4ed2b47\"),\n",
    "    (\"BRANDY\", \"0xf00d980b525e7cfe351259a37efb72f077396eca\"),\n",
    "]\n",
    "\n",
    "balances = pd.DataFrame(columns=[\"Address\", \"OgAndy\", \"SLERF\", \"BRANDY\"])\n",
    "balances.set_index(\"Address\", inplace=True)\n",
    "\n",
    "num_addresses = 50\n",
    "# total requests is num_addresses * len(token_addresses)\n",
    "\n",
    "for token, token_address in token_addresses:\n",
    "    token_address = w3.to_checksum_address(token_address)\n",
    "    contract = w3.eth.contract(address=token_address, abi=abi)\n",
    "    for wallet_address in list(all_wallet_addresses):\n",
    "        time.sleep(0.1)  # quota for infura is 10 reqs per sec at free plan\n",
    "        balance = contract.functions.balanceOf(wallet_address).call()\n",
    "        balances.loc[wallet_address, token] = balance\n",
    "        print(\".\", end=\"\")"
   ]
  },
  {
   "cell_type": "code",
   "execution_count": 35,
   "metadata": {},
   "outputs": [
    {
     "data": {
      "text/html": [
       "<div>\n",
       "<style scoped>\n",
       "    .dataframe tbody tr th:only-of-type {\n",
       "        vertical-align: middle;\n",
       "    }\n",
       "\n",
       "    .dataframe tbody tr th {\n",
       "        vertical-align: top;\n",
       "    }\n",
       "\n",
       "    .dataframe thead th {\n",
       "        text-align: right;\n",
       "    }\n",
       "</style>\n",
       "<table border=\"1\" class=\"dataframe\">\n",
       "  <thead>\n",
       "    <tr style=\"text-align: right;\">\n",
       "      <th></th>\n",
       "      <th>OgAndy</th>\n",
       "      <th>SLERF</th>\n",
       "      <th>BRANDY</th>\n",
       "    </tr>\n",
       "    <tr>\n",
       "      <th>Address</th>\n",
       "      <th></th>\n",
       "      <th></th>\n",
       "      <th></th>\n",
       "    </tr>\n",
       "  </thead>\n",
       "  <tbody>\n",
       "    <tr>\n",
       "      <th>0x8af712d54B9121B153d4aD3679652FDacD377B4d</th>\n",
       "      <td>2544505515332</td>\n",
       "      <td>5051425078851011825195685</td>\n",
       "      <td>4500000000000000</td>\n",
       "    </tr>\n",
       "    <tr>\n",
       "      <th>0xc7239723911f718277a94D8edd48bb17364809aA</th>\n",
       "      <td>10000000000000</td>\n",
       "      <td>7257305689698821416642580</td>\n",
       "      <td>11206532881870034</td>\n",
       "    </tr>\n",
       "    <tr>\n",
       "      <th>0x607538488D455F05F046378c20F078631b184908</th>\n",
       "      <td>1650646188834</td>\n",
       "      <td>2426220614336677410654951</td>\n",
       "      <td>4489066019786940</td>\n",
       "    </tr>\n",
       "    <tr>\n",
       "      <th>0x887a2CA663c35fD607a1Ce6db77e8a5365FE00c4</th>\n",
       "      <td>15564809019747</td>\n",
       "      <td>8264944705112867560456689</td>\n",
       "      <td>11765098779263107</td>\n",
       "    </tr>\n",
       "    <tr>\n",
       "      <th>0x67011c98e6452332ad3587535aB8c99F9eA78217</th>\n",
       "      <td>322115387022</td>\n",
       "      <td>2171105445633882439241728</td>\n",
       "      <td>5183803596238396</td>\n",
       "    </tr>\n",
       "  </tbody>\n",
       "</table>\n",
       "</div>"
      ],
      "text/plain": [
       "                                                    OgAndy  \\\n",
       "Address                                                      \n",
       "0x8af712d54B9121B153d4aD3679652FDacD377B4d   2544505515332   \n",
       "0xc7239723911f718277a94D8edd48bb17364809aA  10000000000000   \n",
       "0x607538488D455F05F046378c20F078631b184908   1650646188834   \n",
       "0x887a2CA663c35fD607a1Ce6db77e8a5365FE00c4  15564809019747   \n",
       "0x67011c98e6452332ad3587535aB8c99F9eA78217    322115387022   \n",
       "\n",
       "                                                                SLERF  \\\n",
       "Address                                                                 \n",
       "0x8af712d54B9121B153d4aD3679652FDacD377B4d  5051425078851011825195685   \n",
       "0xc7239723911f718277a94D8edd48bb17364809aA  7257305689698821416642580   \n",
       "0x607538488D455F05F046378c20F078631b184908  2426220614336677410654951   \n",
       "0x887a2CA663c35fD607a1Ce6db77e8a5365FE00c4  8264944705112867560456689   \n",
       "0x67011c98e6452332ad3587535aB8c99F9eA78217  2171105445633882439241728   \n",
       "\n",
       "                                                       BRANDY  \n",
       "Address                                                        \n",
       "0x8af712d54B9121B153d4aD3679652FDacD377B4d   4500000000000000  \n",
       "0xc7239723911f718277a94D8edd48bb17364809aA  11206532881870034  \n",
       "0x607538488D455F05F046378c20F078631b184908   4489066019786940  \n",
       "0x887a2CA663c35fD607a1Ce6db77e8a5365FE00c4  11765098779263107  \n",
       "0x67011c98e6452332ad3587535aB8c99F9eA78217   5183803596238396  "
      ]
     },
     "execution_count": 35,
     "metadata": {},
     "output_type": "execute_result"
    }
   ],
   "source": [
    "balances.head()"
   ]
  },
  {
   "cell_type": "code",
   "execution_count": 36,
   "metadata": {},
   "outputs": [],
   "source": [
    "balances.to_csv(\"balances.csv\")"
   ]
  }
 ],
 "metadata": {
  "kernelspec": {
   "display_name": "Python 3",
   "language": "python",
   "name": "python3"
  },
  "language_info": {
   "codemirror_mode": {
    "name": "ipython",
    "version": 3
   },
   "file_extension": ".py",
   "mimetype": "text/x-python",
   "name": "python",
   "nbconvert_exporter": "python",
   "pygments_lexer": "ipython3",
   "version": "3.11.7"
  }
 },
 "nbformat": 4,
 "nbformat_minor": 2
}
